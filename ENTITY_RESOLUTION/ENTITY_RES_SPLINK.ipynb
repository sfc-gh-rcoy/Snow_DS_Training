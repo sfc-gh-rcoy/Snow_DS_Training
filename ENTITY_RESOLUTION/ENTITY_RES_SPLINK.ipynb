{
 "metadata": {
  "kernelspec": {
   "display_name": "Streamlit Notebook",
   "name": "streamlit"
  },
  "lastEditStatus": {
   "notebookId": "qj7xbetjd6eyinyy6xmu",
   "authorId": "322325853055",
   "authorName": "CROMANO",
   "authorEmail": "chase.romano@snowflake.com",
   "sessionId": "efb988fa-8d23-40bc-a053-3c3a8931619d",
   "lastEditTime": 1753448307830
  }
 },
 "nbformat_minor": 5,
 "nbformat": 4,
 "cells": [
  {
   "cell_type": "code",
   "id": "12068d61-2785-4af0-bdfc-88065fac12d5",
   "metadata": {
    "language": "python",
    "name": "pip",
    "collapsed": true,
    "codeCollapsed": false
   },
   "outputs": [],
   "source": "!pip install -r requirements.txt",
   "execution_count": null
  },
  {
   "cell_type": "code",
   "id": "43c15f1d-2dca-4df9-9a7f-a50933327671",
   "metadata": {
    "language": "python",
    "name": "check_splink_version"
   },
   "outputs": [],
   "source": "import splink\nprint(splink.__version__)",
   "execution_count": null
  },
  {
   "cell_type": "code",
   "id": "3775908f-ca36-4846-8f38-5adca39217f2",
   "metadata": {
    "language": "python",
    "name": "Imports"
   },
   "source": "# Import python packages\nimport streamlit as st\nimport pandas as pd\nfrom splink import Linker, DuckDBAPI, splink_datasets\n\n# We can also use Snowpark for our analyses!\nfrom snowflake.snowpark.context import get_active_session\nsession = get_active_session()\n",
   "execution_count": null,
   "outputs": []
  },
  {
   "cell_type": "code",
   "id": "8d50cbf4-0c8d-4950-86cb-114990437ac9",
   "metadata": {
    "language": "python",
    "name": "load_data"
   },
   "source": "amazon = pd.read_csv('Amazon.csv',  encoding='unicode_escape')\n\ngoogle = pd.read_csv('GoogleProducts.csv',  encoding='unicode_escape')\ngoogle.head()",
   "execution_count": null,
   "outputs": []
  },
  {
   "cell_type": "code",
   "id": "c695373e-ac74-4b62-a1f1-08206cbd5c81",
   "metadata": {
    "language": "python",
    "name": "combine"
   },
   "source": "amazon[\"source\"] = \"amazon\"\ngoogle[\"source\"] = \"google\"\n\n# Rename NAME to TITLE to match the comparison field names\ngoogle = google.rename(columns={\"NAME\": \"TITLE\"})\n\n# Combine into one dataframe with all necessary columns\ncombined = pd.concat([amazon, google], ignore_index=True)\ncombined.head()",
   "execution_count": null,
   "outputs": []
  }
 ]
}